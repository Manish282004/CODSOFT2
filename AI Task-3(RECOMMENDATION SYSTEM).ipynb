{
 "cells": [
  {
   "cell_type": "code",
   "execution_count": 12,
   "id": "e86ae822",
   "metadata": {},
   "outputs": [],
   "source": [
    "# Import necessary libraries\n",
    "import pandas as pd\n",
    "from sklearn.feature_extraction.text import TfidfVectorizer\n",
    "from sklearn.metrics.pairwise import cosine_similarity\n"
   ]
  },
  {
   "cell_type": "code",
   "execution_count": 13,
   "id": "eed462d1",
   "metadata": {},
   "outputs": [],
   "source": [
    "# Load the dataset\n",
    "df = pd.read_csv(r'https://raw.githubusercontent.com/YBI-Foundation/Dataset/main/Movies%20Recommendation.csv')\n",
    "\n",
    "# Features for content-based filtering\n",
    "features = ['Movie_Genre', 'Movie_Language', 'Movie_Popularity', 'Movie_Runtime', 'Movie_Vote', 'Movie_Vote_Count']\n",
    "\n",
    "# Fill NaN values with empty strings or zeros for numerical columns\n",
    "df[features] = df[features].fillna('')  # For categorical features\n",
    "df['Movie_Vote_Count'] = df['Movie_Vote_Count'].fillna(0)  # For numerical features\n"
   ]
  },
  {
   "cell_type": "code",
   "execution_count": 14,
   "id": "fb9dfda5",
   "metadata": {},
   "outputs": [],
   "source": [
    "# Combine features into a single column\n",
    "df['combined_features'] = df.apply(lambda row: ' '.join([str(row[feature]) for feature in features]), axis=1)\n"
   ]
  },
  {
   "cell_type": "code",
   "execution_count": 15,
   "id": "65205116",
   "metadata": {},
   "outputs": [],
   "source": [
    "# Create a TF-IDF matrix based on combined features\n",
    "tfidf_vectorizer = TfidfVectorizer(stop_words='english')\n",
    "tfidf_matrix = tfidf_vectorizer.fit_transform(df['combined_features'])"
   ]
  },
  {
   "cell_type": "code",
   "execution_count": 16,
   "id": "8fb71d4e",
   "metadata": {},
   "outputs": [],
   "source": [
    "\n",
    "# Calculate cosine similarity between movies based on features\n",
    "movie_similarity = cosine_similarity(tfidf_matrix)\n",
    "\n",
    "# Create a DataFrame with movie similarity values\n",
    "movie_similarity_df = pd.DataFrame(movie_similarity, index=df['Movie_ID'], columns=df['Movie_ID'])"
   ]
  },
  {
   "cell_type": "code",
   "execution_count": 17,
   "id": "222aa9d6",
   "metadata": {},
   "outputs": [],
   "source": [
    "# Function to get movie recommendations using content-based filtering\n",
    "def get_content_based_recommendations(movie_id, num_recommendations=5):\n",
    "    similar_movies = movie_similarity_df[movie_id].sort_values(ascending=False)[1:num_recommendations+1]\n",
    "    recommended_movies = df[df['Movie_ID'].isin(similar_movies.index)][['Movie_ID', 'Movie_Title']]\n",
    "    return recommended_movies\n"
   ]
  },
  {
   "cell_type": "code",
   "execution_count": 18,
   "id": "be850c4c",
   "metadata": {},
   "outputs": [
    {
     "name": "stdout",
     "output_type": "stream",
     "text": [
      "Content-Based Filtering Recommendations for Movie 1:\n",
      "      Movie_ID                    Movie_Title\n",
      "65          66  Star Trek: The Motion Picture\n",
      "393        394                  Cool Runnings\n",
      "1049      1050               Punch-Drunk Love\n",
      "1831      1832                       I Am Sam\n",
      "3383      3385                    Crazy Stone\n"
     ]
    }
   ],
   "source": [
    "# Example usage of content-based filtering recommendation system\n",
    "movie_id = 1\n",
    "content_based_recommendations = get_content_based_recommendations(movie_id)\n",
    "print(f\"Content-Based Filtering Recommendations for Movie {movie_id}:\")\n",
    "print(content_based_recommendations)"
   ]
  },
  {
   "cell_type": "code",
   "execution_count": null,
   "id": "c13d0c8b",
   "metadata": {},
   "outputs": [],
   "source": []
  }
 ],
 "metadata": {
  "kernelspec": {
   "display_name": "Python 3",
   "language": "python",
   "name": "python3"
  },
  "language_info": {
   "codemirror_mode": {
    "name": "ipython",
    "version": 3
   },
   "file_extension": ".py",
   "mimetype": "text/x-python",
   "name": "python",
   "nbconvert_exporter": "python",
   "pygments_lexer": "ipython3",
   "version": "3.8.8"
  }
 },
 "nbformat": 4,
 "nbformat_minor": 5
}
